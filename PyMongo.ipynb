{
  "nbformat": 4,
  "nbformat_minor": 0,
  "metadata": {
    "colab": {
      "provenance": [],
      "include_colab_link": true
    },
    "kernelspec": {
      "name": "python3",
      "display_name": "Python 3"
    },
    "language_info": {
      "name": "python"
    }
  },
  "cells": [
    {
      "cell_type": "markdown",
      "metadata": {
        "id": "view-in-github",
        "colab_type": "text"
      },
      "source": [
        "<a href=\"https://colab.research.google.com/github/PrimeHyAce/Python4DS-Iqbal/blob/main/PyMongo.ipynb\" target=\"_parent\"><img src=\"https://colab.research.google.com/assets/colab-badge.svg\" alt=\"Open In Colab\"/></a>"
      ]
    },
    {
      "cell_type": "markdown",
      "source": [
        "# First steps with MongoDB and PyMongo\n",
        "\n",
        "\n",
        "*   Connection to Mongo\n",
        "*   Basic database, collection management\n",
        "*   CRUD  one document\n",
        "*   CRUD  many documents\n"
      ],
      "metadata": {
        "id": "lJSW4FW24jOk"
      }
    },
    {
      "cell_type": "markdown",
      "source": [
        "Install PyMongo"
      ],
      "metadata": {
        "id": "lTFe06iG4whU"
      }
    },
    {
      "cell_type": "code",
      "execution_count": null,
      "metadata": {
        "colab": {
          "base_uri": "https://localhost:8080/"
        },
        "id": "f1U6nXpl4A2g",
        "outputId": "feef5d81-5da2-4cb2-b11e-530e91c3dea8"
      },
      "outputs": [
        {
          "output_type": "stream",
          "name": "stdout",
          "text": [
            "Collecting pymongo==4.7.2\n",
            "  Downloading pymongo-4.7.2-cp310-cp310-manylinux_2_17_x86_64.manylinux2014_x86_64.whl (670 kB)\n",
            "\u001b[2K     \u001b[90m━━━━━━━━━━━━━━━━━━━━━━━━━━━━━━━━━━━━━━━━\u001b[0m \u001b[32m670.0/670.0 kB\u001b[0m \u001b[31m14.7 MB/s\u001b[0m eta \u001b[36m0:00:00\u001b[0m\n",
            "\u001b[?25hCollecting dnspython<3.0.0,>=1.16.0 (from pymongo==4.7.2)\n",
            "  Downloading dnspython-2.6.1-py3-none-any.whl (307 kB)\n",
            "\u001b[2K     \u001b[90m━━━━━━━━━━━━━━━━━━━━━━━━━━━━━━━━━━━━━━━━\u001b[0m \u001b[32m307.7/307.7 kB\u001b[0m \u001b[31m26.8 MB/s\u001b[0m eta \u001b[36m0:00:00\u001b[0m\n",
            "\u001b[?25hInstalling collected packages: dnspython, pymongo\n",
            "Successfully installed dnspython-2.6.1 pymongo-4.7.2\n"
          ]
        }
      ],
      "source": [
        "! python -m pip install pymongo==4.7.2"
      ]
    },
    {
      "cell_type": "code",
      "source": [
        "import datetime                            # Imports datetime library\n",
        "\n",
        "import pymongo\n",
        "from pymongo import MongoClient\n",
        "\n",
        "# uri (uniform resource identifier) defines the connection parameters\n",
        "uri = 'mongodb://node46266-mongodb.user.cloudjkt01.com:11133'\n",
        "try:\n",
        "    conn = MongoClient(uri)\n",
        "    conn.server_info() # force connection on a request as the\n",
        "                         # connect=True parameter of MongoClient seems\n",
        "                         # to be useless here\n",
        "except pymongo.errors.ServerSelectionTimeoutError as err:\n",
        "    # do whatever you need\n",
        "    print(err)\n"
      ],
      "metadata": {
        "id": "PO0HwTwW5Irq"
      },
      "execution_count": null,
      "outputs": []
    },
    {
      "cell_type": "markdown",
      "source": [
        "Create database and collections"
      ],
      "metadata": {
        "id": "qrUEa66z8za1"
      }
    },
    {
      "cell_type": "code",
      "source": [
        "mydb = conn.mydatabase\n",
        "\n",
        "mycol = mydb.sensors_data"
      ],
      "metadata": {
        "id": "JlYODuNh8043"
      },
      "execution_count": null,
      "outputs": []
    },
    {
      "cell_type": "code",
      "source": [
        "emp_rec1 = {\n",
        "        \"name\":\"Mr.Geek\",\n",
        "        \"eid\":24,\n",
        "        \"location\":\"delhi\"\n",
        "        }\n",
        "\n",
        "# Insert Data\n",
        "rec_id1 = mycol.insert_one(emp_rec1)"
      ],
      "metadata": {
        "id": "SuBDqe0j86Ti"
      },
      "execution_count": null,
      "outputs": []
    },
    {
      "cell_type": "code",
      "source": [
        "# Printing the data inserted\n",
        "cursor = mycol.find()\n",
        "for record in cursor:\n",
        "    print(record)"
      ],
      "metadata": {
        "colab": {
          "base_uri": "https://localhost:8080/"
        },
        "id": "hT_RoX7i-NUL",
        "outputId": "492e4f76-37eb-4705-9113-5332e3ce9eec"
      },
      "execution_count": null,
      "outputs": [
        {
          "output_type": "stream",
          "name": "stdout",
          "text": [
            "{'_id': ObjectId('664f18bda9fd9c6c3dd97152'), 'name': 'Mr.Geek', 'eid': 24, 'location': 'delhi'}\n"
          ]
        }
      ]
    },
    {
      "cell_type": "code",
      "source": [
        "print(conn.list_database_names())\n",
        "print(mydb.list_collection_names())\n"
      ],
      "metadata": {
        "colab": {
          "base_uri": "https://localhost:8080/"
        },
        "id": "CA5d1a9386Jy",
        "outputId": "2779a906-6b97-49fd-8549-e5d6a8ae3957"
      },
      "execution_count": null,
      "outputs": [
        {
          "output_type": "stream",
          "name": "stdout",
          "text": [
            "['admin', 'config', 'local', 'mydatabase']\n",
            "['sensors_data']\n"
          ]
        }
      ]
    }
  ]
}