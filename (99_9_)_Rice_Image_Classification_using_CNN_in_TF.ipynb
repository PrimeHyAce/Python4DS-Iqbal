{
  "metadata": {
    "kernelspec": {
      "language": "python",
      "display_name": "Python 3",
      "name": "python3"
    },
    "language_info": {
      "pygments_lexer": "ipython3",
      "nbconvert_exporter": "python",
      "version": "3.6.4",
      "file_extension": ".py",
      "codemirror_mode": {
        "name": "ipython",
        "version": 3
      },
      "name": "python",
      "mimetype": "text/x-python"
    },
    "colab": {
      "name": "(99.9%) Rice Image Classification using CNN in TF",
      "provenance": []
    }
  },
  "nbformat_minor": 0,
  "nbformat": 4,
  "cells": [
    {
      "source": [
        "\n",
        "# IMPORTANT: RUN THIS CELL IN ORDER TO IMPORT YOUR KAGGLE DATA SOURCES\n",
        "# TO THE CORRECT LOCATION (/kaggle/input) IN YOUR NOTEBOOK,\n",
        "# THEN FEEL FREE TO DELETE THIS CELL.\n",
        "# NOTE: THIS NOTEBOOK ENVIRONMENT DIFFERS FROM KAGGLE'S PYTHON\n",
        "# ENVIRONMENT SO THERE MAY BE MISSING LIBRARIES USED BY YOUR\n",
        "# NOTEBOOK.\n",
        "\n",
        "import os\n",
        "import sys\n",
        "from tempfile import NamedTemporaryFile\n",
        "from urllib.request import urlopen\n",
        "from urllib.parse import unquote, urlparse\n",
        "from urllib.error import HTTPError\n",
        "from zipfile import ZipFile\n",
        "import tarfile\n",
        "import shutil\n",
        "\n",
        "CHUNK_SIZE = 40960\n",
        "DATA_SOURCE_MAPPING = 'rice-image-dataset:https%3A%2F%2Fstorage.googleapis.com%2Fkaggle-data-sets%2F2049052%2F3399185%2Fbundle%2Farchive.zip%3FX-Goog-Algorithm%3DGOOG4-RSA-SHA256%26X-Goog-Credential%3Dgcp-kaggle-com%2540kaggle-161607.iam.gserviceaccount.com%252F20240706%252Fauto%252Fstorage%252Fgoog4_request%26X-Goog-Date%3D20240706T081738Z%26X-Goog-Expires%3D259200%26X-Goog-SignedHeaders%3Dhost%26X-Goog-Signature%3D2befa9743fdc8a2e8242a9ef3ce307cab6db9279958f0fa512d6aceea23c3400314f28c9020226676c67ac70e2b0f0f110804139213241ee6b97f67a0218ef1b0c02c9f379503cb5529c3c57c7cdc19b16d5e1aa281d56d389ec1891b06c896a6c6b16ebf8a8a539de61daab9e9e61394e1d7b92d3dec2018f5fe73f4681288a79591b0da1709468b520a9933565a0da19b3e4a5d8dd14b78f79c4ad7a96976128c413bc9b70989f88f10166979c2846f061ddad5fca861bf38f7b2d42f89420ecd4080da85be428eb2a3f02c3d67667638eabe0f31874a8ac653faf90a9b9b63fdac65322703be199b1428ef70607ae198f5e458c3ed7db29c83c679bd3684b'\n",
        "\n",
        "KAGGLE_INPUT_PATH='/kaggle/input'\n",
        "KAGGLE_WORKING_PATH='/kaggle/working'\n",
        "KAGGLE_SYMLINK='kaggle'\n",
        "\n",
        "!umount /kaggle/input/ 2> /dev/null\n",
        "shutil.rmtree('/kaggle/input', ignore_errors=True)\n",
        "os.makedirs(KAGGLE_INPUT_PATH, 0o777, exist_ok=True)\n",
        "os.makedirs(KAGGLE_WORKING_PATH, 0o777, exist_ok=True)\n",
        "\n",
        "try:\n",
        "  os.symlink(KAGGLE_INPUT_PATH, os.path.join(\"..\", 'input'), target_is_directory=True)\n",
        "except FileExistsError:\n",
        "  pass\n",
        "try:\n",
        "  os.symlink(KAGGLE_WORKING_PATH, os.path.join(\"..\", 'working'), target_is_directory=True)\n",
        "except FileExistsError:\n",
        "  pass\n",
        "\n",
        "for data_source_mapping in DATA_SOURCE_MAPPING.split(','):\n",
        "    directory, download_url_encoded = data_source_mapping.split(':')\n",
        "    download_url = unquote(download_url_encoded)\n",
        "    filename = urlparse(download_url).path\n",
        "    destination_path = os.path.join(KAGGLE_INPUT_PATH, directory)\n",
        "    try:\n",
        "        with urlopen(download_url) as fileres, NamedTemporaryFile() as tfile:\n",
        "            total_length = fileres.headers['content-length']\n",
        "            print(f'Downloading {directory}, {total_length} bytes compressed')\n",
        "            dl = 0\n",
        "            data = fileres.read(CHUNK_SIZE)\n",
        "            while len(data) > 0:\n",
        "                dl += len(data)\n",
        "                tfile.write(data)\n",
        "                done = int(50 * dl / int(total_length))\n",
        "                sys.stdout.write(f\"\\r[{'=' * done}{' ' * (50-done)}] {dl} bytes downloaded\")\n",
        "                sys.stdout.flush()\n",
        "                data = fileres.read(CHUNK_SIZE)\n",
        "            if filename.endswith('.zip'):\n",
        "              with ZipFile(tfile) as zfile:\n",
        "                zfile.extractall(destination_path)\n",
        "            else:\n",
        "              with tarfile.open(tfile.name) as tarfile:\n",
        "                tarfile.extractall(destination_path)\n",
        "            print(f'\\nDownloaded and uncompressed: {directory}')\n",
        "    except HTTPError as e:\n",
        "        print(f'Failed to load (likely expired) {download_url} to path {destination_path}')\n",
        "        continue\n",
        "    except OSError as e:\n",
        "        print(f'Failed to load {download_url} to path {destination_path}')\n",
        "        continue\n",
        "\n",
        "print('Data source import complete.')\n"
      ],
      "metadata": {
        "id": "uhwBv33CPeQz"
      },
      "cell_type": "code",
      "outputs": [],
      "execution_count": null
    },
    {
      "cell_type": "code",
      "source": [
        "!pip install split-folders"
      ],
      "metadata": {
        "_uuid": "8f2839f25d086af736a60e9eeb907d3b93b6e0e5",
        "_cell_guid": "b1076dfc-b9ad-4769-8c92-a6c4dae69d19",
        "execution": {
          "iopub.status.busy": "2022-04-25T16:39:49.697327Z",
          "iopub.execute_input": "2022-04-25T16:39:49.697588Z",
          "iopub.status.idle": "2022-04-25T16:39:57.344409Z",
          "shell.execute_reply.started": "2022-04-25T16:39:49.69756Z",
          "shell.execute_reply": "2022-04-25T16:39:57.343554Z"
        },
        "trusted": true,
        "id": "iZOJjgG4PeQ2"
      },
      "execution_count": null,
      "outputs": []
    },
    {
      "cell_type": "markdown",
      "source": [
        "### **Importing of Necessary Libraries**"
      ],
      "metadata": {
        "id": "f5ncr7sxPeQ2"
      }
    },
    {
      "cell_type": "code",
      "source": [
        "import matplotlib.pyplot as plt\n",
        "import seaborn as sns\n",
        "import numpy as np\n",
        "import pandas as pd\n",
        "import random\n",
        "import cv2\n",
        "import os\n",
        "import PIL\n",
        "import pathlib\n",
        "import splitfolders\n",
        "\n",
        "import tensorflow as tf\n",
        "from tensorflow import keras\n",
        "from tensorflow.keras import layers\n",
        "from tensorflow.keras.models import Sequential\n",
        "from keras.callbacks import ModelCheckpoint, EarlyStopping, ReduceLROnPlateau\n",
        "from keras.preprocessing.image import ImageDataGenerator\n",
        "from keras.applications.vgg16 import VGG16"
      ],
      "metadata": {
        "execution": {
          "iopub.status.busy": "2022-04-25T16:39:57.3481Z",
          "iopub.execute_input": "2022-04-25T16:39:57.348346Z",
          "iopub.status.idle": "2022-04-25T16:39:57.354518Z",
          "shell.execute_reply.started": "2022-04-25T16:39:57.34832Z",
          "shell.execute_reply": "2022-04-25T16:39:57.353853Z"
        },
        "trusted": true,
        "id": "Id4ISU-7PeQ4"
      },
      "execution_count": null,
      "outputs": []
    },
    {
      "cell_type": "markdown",
      "source": [
        "### **Dataset Loading and Splitting**\n",
        "Split-folders library was used to split the dataset into three parts: Training set(70%), Validation set(15%), and Test set(15%)."
      ],
      "metadata": {
        "id": "HZ8qPuUMPeQ4"
      }
    },
    {
      "cell_type": "code",
      "source": [
        "base_ds = '../input/rice-image-dataset/Rice_Image_Dataset'\n",
        "base_ds = pathlib.Path(base_ds)"
      ],
      "metadata": {
        "execution": {
          "iopub.status.busy": "2022-04-25T16:39:57.356097Z",
          "iopub.execute_input": "2022-04-25T16:39:57.356387Z",
          "iopub.status.idle": "2022-04-25T16:39:57.363788Z",
          "shell.execute_reply.started": "2022-04-25T16:39:57.356325Z",
          "shell.execute_reply": "2022-04-25T16:39:57.363123Z"
        },
        "trusted": true,
        "id": "rEgIOdnGPeQ4"
      },
      "execution_count": null,
      "outputs": []
    },
    {
      "cell_type": "code",
      "source": [
        "splitfolders.ratio(base_ds, output='imgs', seed=123, ratio=(.7,.15,.15), group_prefix=None)"
      ],
      "metadata": {
        "execution": {
          "iopub.status.busy": "2022-04-25T16:39:57.36604Z",
          "iopub.execute_input": "2022-04-25T16:39:57.366541Z",
          "iopub.status.idle": "2022-04-25T16:47:27.911565Z",
          "shell.execute_reply.started": "2022-04-25T16:39:57.366467Z",
          "shell.execute_reply": "2022-04-25T16:47:27.910849Z"
        },
        "trusted": true,
        "id": "5eV4oCZJPeQ5"
      },
      "execution_count": null,
      "outputs": []
    },
    {
      "cell_type": "code",
      "source": [
        "arborio = [fn for fn in os.listdir(f'{base_ds}/Arborio') if fn.endswith('.jpg')]\n",
        "bastmati = [fn for fn in os.listdir(f'{base_ds}/Basmati') if fn.endswith('.jpg')]\n",
        "ipsala = [fn for fn in os.listdir(f'{base_ds}/Ipsala') if fn.endswith('.jpg')]\n",
        "jasmine = [fn for fn in os.listdir(f'{base_ds}/Jasmine') if fn.endswith('.jpg')]\n",
        "karacadag = [fn for fn in os.listdir(f'{base_ds}/Karacadag') if fn.endswith('.jpg')]\n",
        "rice = [arborio, bastmati, ipsala, jasmine, karacadag]\n",
        "rice_classes = []\n",
        "for i in os.listdir('imgs/train'):\n",
        "    rice_classes+=[i]\n",
        "rice_classes.sort()"
      ],
      "metadata": {
        "execution": {
          "iopub.status.busy": "2022-04-25T16:47:46.38104Z",
          "iopub.execute_input": "2022-04-25T16:47:46.381463Z",
          "iopub.status.idle": "2022-04-25T16:47:46.430607Z",
          "shell.execute_reply.started": "2022-04-25T16:47:46.381424Z",
          "shell.execute_reply": "2022-04-25T16:47:46.429897Z"
        },
        "trusted": true,
        "id": "7_CkZX4wPeQ5"
      },
      "execution_count": null,
      "outputs": []
    },
    {
      "cell_type": "markdown",
      "source": [
        "### **Dataset Exploration**\n",
        "It can be seen here the total number of images in the dataset, the number of classes, and how well the images from each variety is distributed"
      ],
      "metadata": {
        "id": "Zl_kLwt8PeQ5"
      }
    },
    {
      "cell_type": "code",
      "source": [
        "image_count = len(list(base_ds.glob('*/*.jpg')))\n",
        "print(f'Total images: {image_count}')\n",
        "print(f'Total number of classes: {len(rice_classes)}')\n",
        "count = 0\n",
        "rice_count = []\n",
        "for x in rice_classes:\n",
        "  print(f'Total {x} images: {len(rice[count])}')\n",
        "  rice_count.append(len(rice[count]))\n",
        "  count += 1\n",
        "\n",
        "sns.set_style('darkgrid')\n",
        "sns.barplot(x=rice_classes, y=rice_count, palette=\"Blues_d\")\n",
        "plt.show()"
      ],
      "metadata": {
        "execution": {
          "iopub.status.busy": "2022-04-25T16:48:09.542031Z",
          "iopub.execute_input": "2022-04-25T16:48:09.542308Z",
          "iopub.status.idle": "2022-04-25T16:48:10.166077Z",
          "shell.execute_reply.started": "2022-04-25T16:48:09.542278Z",
          "shell.execute_reply": "2022-04-25T16:48:10.165385Z"
        },
        "trusted": true,
        "id": "8NvYHeH_PeQ5"
      },
      "execution_count": null,
      "outputs": []
    },
    {
      "cell_type": "markdown",
      "source": [
        "### Sample Images\n",
        "Each image from the dataset has a dimension of 250 by 250 and a color type of RGB"
      ],
      "metadata": {
        "id": "2Xf_h1ujPeQ6"
      }
    },
    {
      "cell_type": "code",
      "source": [
        "sample_img = cv2.imread('imgs/test/Arborio/Arborio (10).jpg')\n",
        "plt.imshow(sample_img)\n",
        "print(f'Image dimensions: {sample_img.shape}')"
      ],
      "metadata": {
        "execution": {
          "iopub.status.busy": "2022-04-25T16:48:10.167772Z",
          "iopub.execute_input": "2022-04-25T16:48:10.168036Z",
          "iopub.status.idle": "2022-04-25T16:48:10.405671Z",
          "shell.execute_reply.started": "2022-04-25T16:48:10.167999Z",
          "shell.execute_reply": "2022-04-25T16:48:10.40503Z"
        },
        "trusted": true,
        "id": "3YNx2DlDPeQ6"
      },
      "execution_count": null,
      "outputs": []
    },
    {
      "cell_type": "code",
      "source": [
        "def load_random_img(dir, label):\n",
        "  plt.figure(figsize=(10,10))\n",
        "  i=0\n",
        "  for label in rice_classes:\n",
        "    i+=1\n",
        "    plt.subplot(1, 5, i)\n",
        "    file = random.choice(os.listdir(f'{dir}/{label}'))\n",
        "    image_path = os.path.join(f'{dir}/{label}', file)\n",
        "    img=cv2.imread(image_path)\n",
        "    plt.title(label)\n",
        "    plt.imshow(img)\n",
        "    plt.grid(None)\n",
        "    plt.axis('off')"
      ],
      "metadata": {
        "execution": {
          "iopub.status.busy": "2022-04-25T16:48:10.406963Z",
          "iopub.execute_input": "2022-04-25T16:48:10.407216Z",
          "iopub.status.idle": "2022-04-25T16:48:10.413276Z",
          "shell.execute_reply.started": "2022-04-25T16:48:10.407168Z",
          "shell.execute_reply": "2022-04-25T16:48:10.412355Z"
        },
        "trusted": true,
        "id": "z5zE8TdKPeQ6"
      },
      "execution_count": null,
      "outputs": []
    },
    {
      "cell_type": "code",
      "source": [
        "for i in range(3):\n",
        "  load_random_img(base_ds, rice_classes)"
      ],
      "metadata": {
        "execution": {
          "iopub.status.busy": "2022-04-25T16:48:10.416115Z",
          "iopub.execute_input": "2022-04-25T16:48:10.41641Z",
          "iopub.status.idle": "2022-04-25T16:48:12.030447Z",
          "shell.execute_reply.started": "2022-04-25T16:48:10.41637Z",
          "shell.execute_reply": "2022-04-25T16:48:12.029748Z"
        },
        "trusted": true,
        "id": "FpvqFigbPeQ6"
      },
      "execution_count": null,
      "outputs": []
    },
    {
      "cell_type": "code",
      "source": [
        "batch_size = 128\n",
        "img_height, img_width = 175, 175\n",
        "input_shape = (img_height, img_width, 3)"
      ],
      "metadata": {
        "execution": {
          "iopub.status.busy": "2022-04-25T16:48:12.03171Z",
          "iopub.execute_input": "2022-04-25T16:48:12.032113Z",
          "iopub.status.idle": "2022-04-25T16:48:12.036296Z",
          "shell.execute_reply.started": "2022-04-25T16:48:12.032074Z",
          "shell.execute_reply": "2022-04-25T16:48:12.035621Z"
        },
        "trusted": true,
        "id": "69flyEYzPeQ6"
      },
      "execution_count": null,
      "outputs": []
    },
    {
      "cell_type": "markdown",
      "source": [
        "### **Data Pre-processing**"
      ],
      "metadata": {
        "id": "tunSHnNQPeQ6"
      }
    },
    {
      "cell_type": "code",
      "source": [
        "datagen = ImageDataGenerator(rescale=1./255)"
      ],
      "metadata": {
        "execution": {
          "iopub.status.busy": "2022-04-25T16:48:12.037552Z",
          "iopub.execute_input": "2022-04-25T16:48:12.037967Z",
          "iopub.status.idle": "2022-04-25T16:48:12.046405Z",
          "shell.execute_reply.started": "2022-04-25T16:48:12.03793Z",
          "shell.execute_reply": "2022-04-25T16:48:12.045609Z"
        },
        "trusted": true,
        "id": "AvXGii4iPeQ6"
      },
      "execution_count": null,
      "outputs": []
    },
    {
      "cell_type": "code",
      "source": [
        "train_ds = datagen.flow_from_directory(\n",
        "    'imgs/train',\n",
        "    target_size = (img_height, img_width),\n",
        "    batch_size = batch_size,\n",
        "    subset = \"training\",\n",
        "    class_mode='categorical')\n",
        "\n",
        "val_ds = datagen.flow_from_directory(\n",
        "    'imgs/val',\n",
        "    target_size = (img_height, img_width),\n",
        "    batch_size = batch_size,\n",
        "    class_mode='categorical',\n",
        "    shuffle=False)\n",
        "\n",
        "test_ds = datagen.flow_from_directory(\n",
        "    'imgs/test',\n",
        "    target_size = (img_height, img_width),\n",
        "    batch_size = batch_size,\n",
        "    class_mode='categorical',\n",
        "    shuffle=False)"
      ],
      "metadata": {
        "execution": {
          "iopub.status.busy": "2022-04-25T16:48:12.047673Z",
          "iopub.execute_input": "2022-04-25T16:48:12.048333Z",
          "iopub.status.idle": "2022-04-25T16:48:15.927131Z",
          "shell.execute_reply.started": "2022-04-25T16:48:12.048296Z",
          "shell.execute_reply": "2022-04-25T16:48:15.926432Z"
        },
        "trusted": true,
        "id": "eUdT083yPeQ7"
      },
      "execution_count": null,
      "outputs": []
    },
    {
      "cell_type": "code",
      "source": [
        "def plot_train_history(history):\n",
        "    plt.figure(figsize=(15,5))\n",
        "    plt.subplot(1,2,1)\n",
        "    plt.plot(history.history['accuracy'])\n",
        "    plt.plot(history.history['val_accuracy'])\n",
        "    plt.title('Model accuracy')\n",
        "    plt.ylabel('accuracy')\n",
        "    plt.xlabel('epoch')\n",
        "    plt.legend(['train', 'validation'], loc='upper left')\n",
        "\n",
        "    plt.subplot(1,2,2)\n",
        "    plt.plot(history.history['loss'])\n",
        "    plt.plot(history.history['val_loss'])\n",
        "    plt.title('Model loss')\n",
        "    plt.ylabel('loss')\n",
        "    plt.xlabel('epoch')\n",
        "    plt.legend(['train', 'validation'], loc='upper left')\n",
        "    plt.show()"
      ],
      "metadata": {
        "execution": {
          "iopub.status.busy": "2022-04-25T16:48:15.928408Z",
          "iopub.execute_input": "2022-04-25T16:48:15.928816Z",
          "iopub.status.idle": "2022-04-25T16:48:15.936237Z",
          "shell.execute_reply.started": "2022-04-25T16:48:15.928778Z",
          "shell.execute_reply": "2022-04-25T16:48:15.935403Z"
        },
        "trusted": true,
        "id": "92QsNfGMPeQ7"
      },
      "execution_count": null,
      "outputs": []
    },
    {
      "cell_type": "markdown",
      "source": [
        "## **Vanilla CNN Model**"
      ],
      "metadata": {
        "id": "AP0c_wIyPeQ7"
      }
    },
    {
      "cell_type": "code",
      "source": [
        "model_vanilla = tf.keras.Sequential([\n",
        "    tf.keras.layers.Conv2D(32,(3,3), activation='relu', input_shape=input_shape),\n",
        "    tf.keras.layers.BatchNormalization(),\n",
        "    tf.keras.layers.Conv2D(32,(3,3),activation='relu',padding='same'),\n",
        "    tf.keras.layers.BatchNormalization(axis = 3),\n",
        "    tf.keras.layers.MaxPooling2D(pool_size=(2,2),padding='same'),\n",
        "    tf.keras.layers.Dropout(0.3),\n",
        "\n",
        "    tf.keras.layers.Conv2D(64,(3,3),activation='relu',padding='same'),\n",
        "    tf.keras.layers.BatchNormalization(),\n",
        "    tf.keras.layers.Conv2D(64,(3,3),activation='relu',padding='same'),\n",
        "    tf.keras.layers.BatchNormalization(axis = 3),\n",
        "    tf.keras.layers.MaxPooling2D(pool_size=(2,2),padding='same'),\n",
        "    tf.keras.layers.Dropout(0.3),\n",
        "\n",
        "    tf.keras.layers.Conv2D(128,(3,3),activation='relu',padding='same'),\n",
        "    tf.keras.layers.BatchNormalization(),\n",
        "    tf.keras.layers.Conv2D(128,(3,3),activation='relu',padding='same'),\n",
        "    tf.keras.layers.BatchNormalization(axis = 3),\n",
        "    tf.keras.layers.MaxPooling2D(pool_size=(2,2),padding='same'),\n",
        "    tf.keras.layers.Dropout(0.5),\n",
        "\n",
        "    tf.keras.layers.Flatten(),\n",
        "    tf.keras.layers.Dense(512, activation='relu'),\n",
        "    tf.keras.layers.BatchNormalization(),\n",
        "    tf.keras.layers.Dropout(0.5),\n",
        "    tf.keras.layers.Dense(128, activation='relu'),\n",
        "    tf.keras.layers.Dropout(0.25),\n",
        "    tf.keras.layers.Dense(5, activation='softmax')\n",
        "])"
      ],
      "metadata": {
        "execution": {
          "iopub.status.busy": "2022-04-25T16:48:15.937419Z",
          "iopub.execute_input": "2022-04-25T16:48:15.937732Z",
          "iopub.status.idle": "2022-04-25T16:48:16.451964Z",
          "shell.execute_reply.started": "2022-04-25T16:48:15.937696Z",
          "shell.execute_reply": "2022-04-25T16:48:16.451252Z"
        },
        "trusted": true,
        "id": "V5xRFmjQPeQ7"
      },
      "execution_count": null,
      "outputs": []
    },
    {
      "cell_type": "code",
      "source": [
        "model_vanilla.compile(optimizer='adam', loss='categorical_crossentropy', metrics=['accuracy'])\n",
        "model_vanilla.summary()"
      ],
      "metadata": {
        "execution": {
          "iopub.status.busy": "2022-04-25T16:48:16.454947Z",
          "iopub.execute_input": "2022-04-25T16:48:16.455554Z",
          "iopub.status.idle": "2022-04-25T16:48:16.480208Z",
          "shell.execute_reply.started": "2022-04-25T16:48:16.455522Z",
          "shell.execute_reply": "2022-04-25T16:48:16.4795Z"
        },
        "trusted": true,
        "id": "-GZRbm3sPeQ7"
      },
      "execution_count": null,
      "outputs": []
    },
    {
      "cell_type": "markdown",
      "source": [
        "## **Callbacks**"
      ],
      "metadata": {
        "id": "lLrqd6JMPeQ7"
      }
    },
    {
      "cell_type": "code",
      "source": [
        "models_dir = \"saved_models\"\n",
        "if not os.path.exists(models_dir):\n",
        "    os.makedirs(models_dir)\n",
        "\n",
        "checkpointer = ModelCheckpoint(filepath='saved_models/model_vanilla.hdf5',\n",
        "                               monitor='val_accuracy', mode='max',\n",
        "                               verbose=1, save_best_only=True)\n",
        "early_stopping = EarlyStopping(monitor='val_loss', mode='min', verbose=1, patience=3)\n",
        "reduce_lr = ReduceLROnPlateau(monitor='val_loss', factor=0.2,patience=2, min_lr=0.001)\n",
        "callbacks=[early_stopping, reduce_lr, checkpointer]"
      ],
      "metadata": {
        "execution": {
          "iopub.status.busy": "2022-04-25T16:48:16.481345Z",
          "iopub.execute_input": "2022-04-25T16:48:16.481583Z",
          "iopub.status.idle": "2022-04-25T16:48:16.489153Z",
          "shell.execute_reply.started": "2022-04-25T16:48:16.481549Z",
          "shell.execute_reply": "2022-04-25T16:48:16.488249Z"
        },
        "trusted": true,
        "id": "JGQ216_3PeQ7"
      },
      "execution_count": null,
      "outputs": []
    },
    {
      "cell_type": "code",
      "source": [
        "history1 = model_vanilla.fit(train_ds, epochs = 40, validation_data = val_ds, callbacks=callbacks)"
      ],
      "metadata": {
        "execution": {
          "iopub.status.busy": "2022-04-25T16:48:16.490361Z",
          "iopub.execute_input": "2022-04-25T16:48:16.49069Z",
          "iopub.status.idle": "2022-04-25T17:19:59.916163Z",
          "shell.execute_reply.started": "2022-04-25T16:48:16.490652Z",
          "shell.execute_reply": "2022-04-25T17:19:59.915364Z"
        },
        "trusted": true,
        "id": "zVMBPU0kPeQ7"
      },
      "execution_count": null,
      "outputs": []
    },
    {
      "cell_type": "code",
      "source": [
        "model_vanilla.load_weights('saved_models/model_vanilla.hdf5')\n",
        "plot_train_history(history1)"
      ],
      "metadata": {
        "execution": {
          "iopub.status.busy": "2022-04-25T17:19:59.920746Z",
          "iopub.execute_input": "2022-04-25T17:19:59.92291Z",
          "iopub.status.idle": "2022-04-25T17:20:00.52909Z",
          "shell.execute_reply.started": "2022-04-25T17:19:59.922863Z",
          "shell.execute_reply": "2022-04-25T17:20:00.528416Z"
        },
        "trusted": true,
        "id": "6QWdY47CPeQ7"
      },
      "execution_count": null,
      "outputs": []
    },
    {
      "cell_type": "markdown",
      "source": [
        "## **Model Evaluation of Vanilla CNN**"
      ],
      "metadata": {
        "id": "fpYzIGmtPeQ7"
      }
    },
    {
      "cell_type": "code",
      "source": [
        "score1 = model_vanilla.evaluate(test_ds, verbose=1)"
      ],
      "metadata": {
        "execution": {
          "iopub.status.busy": "2022-04-25T17:20:00.530151Z",
          "iopub.execute_input": "2022-04-25T17:20:00.530548Z",
          "iopub.status.idle": "2022-04-25T17:20:41.740093Z",
          "shell.execute_reply.started": "2022-04-25T17:20:00.530509Z",
          "shell.execute_reply": "2022-04-25T17:20:41.73927Z"
        },
        "trusted": true,
        "id": "Iycu09mcPeQ7"
      },
      "execution_count": null,
      "outputs": []
    },
    {
      "cell_type": "code",
      "source": [
        "from sklearn.metrics import classification_report, confusion_matrix\n",
        "\n",
        "Y_pred = model_vanilla.predict(test_ds)"
      ],
      "metadata": {
        "execution": {
          "iopub.status.busy": "2022-04-25T17:20:41.741255Z",
          "iopub.execute_input": "2022-04-25T17:20:41.741483Z",
          "iopub.status.idle": "2022-04-25T17:21:01.121273Z",
          "shell.execute_reply.started": "2022-04-25T17:20:41.741452Z",
          "shell.execute_reply": "2022-04-25T17:21:01.120512Z"
        },
        "trusted": true,
        "id": "do1kbyiHPeQ8"
      },
      "execution_count": null,
      "outputs": []
    },
    {
      "cell_type": "code",
      "source": [
        "y_pred = np.argmax(Y_pred, axis=1)\n",
        "confusion_mtx = confusion_matrix(y_pred, test_ds.classes)\n",
        "f,ax = plt.subplots(figsize=(12, 12))\n",
        "sns.heatmap(confusion_mtx, annot=True,\n",
        "            linewidths=0.01,\n",
        "            linecolor=\"white\",\n",
        "            fmt= '.1f',ax=ax,)\n",
        "sns.color_palette(\"rocket\", as_cmap=True)\n",
        "\n",
        "plt.xlabel(\"Predicted Label\")\n",
        "plt.ylabel(\"True Label\")\n",
        "ax.xaxis.set_ticklabels(test_ds.class_indices)\n",
        "ax.yaxis.set_ticklabels(rice_classes)\n",
        "plt.title(\"Confusion Matrix\")\n",
        "plt.show()"
      ],
      "metadata": {
        "execution": {
          "iopub.status.busy": "2022-04-25T17:21:01.122772Z",
          "iopub.execute_input": "2022-04-25T17:21:01.123023Z",
          "iopub.status.idle": "2022-04-25T17:21:01.456853Z",
          "shell.execute_reply.started": "2022-04-25T17:21:01.122988Z",
          "shell.execute_reply": "2022-04-25T17:21:01.456209Z"
        },
        "trusted": true,
        "id": "ZXSc4hp8PeQ8"
      },
      "execution_count": null,
      "outputs": []
    },
    {
      "cell_type": "code",
      "source": [
        "report1 = classification_report(test_ds.classes, y_pred, target_names=rice_classes, output_dict=True)\n",
        "df1 = pd.DataFrame(report1).transpose()\n",
        "df1"
      ],
      "metadata": {
        "execution": {
          "iopub.status.busy": "2022-04-25T17:21:01.458177Z",
          "iopub.execute_input": "2022-04-25T17:21:01.45843Z",
          "iopub.status.idle": "2022-04-25T17:21:01.486533Z",
          "shell.execute_reply.started": "2022-04-25T17:21:01.458397Z",
          "shell.execute_reply": "2022-04-25T17:21:01.485755Z"
        },
        "trusted": true,
        "id": "xWDT3QQ7PeQ8"
      },
      "execution_count": null,
      "outputs": []
    },
    {
      "cell_type": "markdown",
      "source": [
        "## **Transfer Learning**"
      ],
      "metadata": {
        "id": "7uAJC0OEPeQ8"
      }
    },
    {
      "cell_type": "code",
      "source": [
        "vgg16 = VGG16(weights=\"imagenet\", include_top=False, input_shape=input_shape)\n",
        "vgg16.trainable = False\n",
        "inputs = tf.keras.Input(input_shape)\n",
        "x = vgg16(inputs, training=False)\n",
        "x = tf.keras.layers.GlobalAveragePooling2D()(x)\n",
        "x = tf.keras.layers.Dense(1024, activation='relu')(x)\n",
        "x = tf.keras.layers.Dense(5, activation='softmax')(x)\n",
        "model_vgg16 = tf.keras.Model(inputs, x)"
      ],
      "metadata": {
        "execution": {
          "iopub.status.busy": "2022-04-25T17:21:01.487851Z",
          "iopub.execute_input": "2022-04-25T17:21:01.488108Z",
          "iopub.status.idle": "2022-04-25T17:21:02.268287Z",
          "shell.execute_reply.started": "2022-04-25T17:21:01.488073Z",
          "shell.execute_reply": "2022-04-25T17:21:02.267534Z"
        },
        "trusted": true,
        "id": "rHwFUVqXPeQ8"
      },
      "execution_count": null,
      "outputs": []
    },
    {
      "cell_type": "code",
      "source": [
        "model_vgg16.compile(optimizer='adam', loss='categorical_crossentropy', metrics=['accuracy'])\n",
        "model_vgg16.summary()"
      ],
      "metadata": {
        "execution": {
          "iopub.status.busy": "2022-04-25T17:21:02.26951Z",
          "iopub.execute_input": "2022-04-25T17:21:02.269773Z",
          "iopub.status.idle": "2022-04-25T17:21:02.285015Z",
          "shell.execute_reply.started": "2022-04-25T17:21:02.26974Z",
          "shell.execute_reply": "2022-04-25T17:21:02.284176Z"
        },
        "trusted": true,
        "id": "qk7tGVktPeQ8"
      },
      "execution_count": null,
      "outputs": []
    },
    {
      "cell_type": "code",
      "source": [
        "checkpointer = ModelCheckpoint(filepath='saved_models/model_vgg16.hdf5',\n",
        "                               monitor='val_accuracy', mode='max',\n",
        "                               verbose=1, save_best_only=True)\n",
        "early_stopping = EarlyStopping(monitor='val_loss', mode='min', verbose=1, patience=3)\n",
        "reduce_lr = ReduceLROnPlateau(monitor='val_loss', factor=0.2,patience=2, min_lr=0.001)\n",
        "callbacks=[early_stopping, reduce_lr, checkpointer]"
      ],
      "metadata": {
        "execution": {
          "iopub.status.busy": "2022-04-25T17:21:02.286094Z",
          "iopub.execute_input": "2022-04-25T17:21:02.286883Z",
          "iopub.status.idle": "2022-04-25T17:21:02.295079Z",
          "shell.execute_reply.started": "2022-04-25T17:21:02.286855Z",
          "shell.execute_reply": "2022-04-25T17:21:02.294339Z"
        },
        "trusted": true,
        "id": "R4DUJFyqPeQ8"
      },
      "execution_count": null,
      "outputs": []
    },
    {
      "cell_type": "code",
      "source": [
        "history2 = model_vgg16.fit(train_ds, epochs = 40, validation_data = val_ds, callbacks=callbacks)"
      ],
      "metadata": {
        "execution": {
          "iopub.status.busy": "2022-04-25T17:21:02.296627Z",
          "iopub.execute_input": "2022-04-25T17:21:02.296812Z",
          "iopub.status.idle": "2022-04-25T17:47:21.316965Z",
          "shell.execute_reply.started": "2022-04-25T17:21:02.29679Z",
          "shell.execute_reply": "2022-04-25T17:47:21.315917Z"
        },
        "trusted": true,
        "id": "HpjfaJTtPeQ8"
      },
      "execution_count": null,
      "outputs": []
    },
    {
      "cell_type": "code",
      "source": [
        "model_vgg16.load_weights('saved_models/model_vgg16.hdf5')"
      ],
      "metadata": {
        "execution": {
          "iopub.status.busy": "2022-04-25T17:47:21.318607Z",
          "iopub.execute_input": "2022-04-25T17:47:21.318857Z",
          "iopub.status.idle": "2022-04-25T17:47:21.391375Z",
          "shell.execute_reply.started": "2022-04-25T17:47:21.318822Z",
          "shell.execute_reply": "2022-04-25T17:47:21.390604Z"
        },
        "trusted": true,
        "id": "URxlLvewPeQ8"
      },
      "execution_count": null,
      "outputs": []
    },
    {
      "cell_type": "code",
      "source": [
        "plot_train_history(history2)"
      ],
      "metadata": {
        "execution": {
          "iopub.status.busy": "2022-04-25T17:47:21.39273Z",
          "iopub.execute_input": "2022-04-25T17:47:21.39298Z",
          "iopub.status.idle": "2022-04-25T17:47:21.766221Z",
          "shell.execute_reply.started": "2022-04-25T17:47:21.392945Z",
          "shell.execute_reply": "2022-04-25T17:47:21.765566Z"
        },
        "trusted": true,
        "id": "4WpxK91EPeQ8"
      },
      "execution_count": null,
      "outputs": []
    },
    {
      "cell_type": "code",
      "source": [
        "score2 = model_vgg16.evaluate(test_ds, verbose=1)\n",
        "print(f'Model 1 Vanilla Loss: {score1[0]}, Accuracy: {score1[1]*100}')\n",
        "print(f'Model 2 VGG16 Loss: {score2[0]}, Accuracy: {score2[1]*100}')"
      ],
      "metadata": {
        "execution": {
          "iopub.status.busy": "2022-04-25T17:47:21.76758Z",
          "iopub.execute_input": "2022-04-25T17:47:21.768001Z",
          "iopub.status.idle": "2022-04-25T17:47:45.29775Z",
          "shell.execute_reply.started": "2022-04-25T17:47:21.767958Z",
          "shell.execute_reply": "2022-04-25T17:47:45.296983Z"
        },
        "trusted": true,
        "id": "smpsUPbPPeQ9"
      },
      "execution_count": null,
      "outputs": []
    },
    {
      "cell_type": "markdown",
      "source": [
        "## **Fine Tuning**"
      ],
      "metadata": {
        "id": "45sHNNr4PeRA"
      }
    },
    {
      "cell_type": "code",
      "source": [
        "vgg16.trainable = True\n",
        "model_vgg16.compile(optimizer=keras.optimizers.Adam(1e-5),\n",
        "              loss='categorical_crossentropy', metrics=['accuracy'])"
      ],
      "metadata": {
        "execution": {
          "iopub.status.busy": "2022-04-25T18:17:05.441063Z",
          "iopub.execute_input": "2022-04-25T18:17:05.441749Z",
          "iopub.status.idle": "2022-04-25T18:17:05.456385Z",
          "shell.execute_reply.started": "2022-04-25T18:17:05.44171Z",
          "shell.execute_reply": "2022-04-25T18:17:05.455566Z"
        },
        "trusted": true,
        "id": "ZJYrijBkPeRB"
      },
      "execution_count": null,
      "outputs": []
    },
    {
      "cell_type": "code",
      "source": [
        "history3 = model_vgg16.fit(train_ds, epochs = 40, validation_data = val_ds, callbacks=callbacks)"
      ],
      "metadata": {
        "execution": {
          "iopub.status.busy": "2022-04-25T18:17:06.705948Z",
          "iopub.execute_input": "2022-04-25T18:17:06.706243Z",
          "iopub.status.idle": "2022-04-25T18:47:39.15228Z",
          "shell.execute_reply.started": "2022-04-25T18:17:06.70621Z",
          "shell.execute_reply": "2022-04-25T18:47:39.151591Z"
        },
        "trusted": true,
        "id": "vobQKBrQPeRB"
      },
      "execution_count": null,
      "outputs": []
    },
    {
      "cell_type": "code",
      "source": [
        "model_vgg16.load_weights('saved_models/model_vgg16.hdf5')"
      ],
      "metadata": {
        "execution": {
          "iopub.status.busy": "2022-04-25T18:47:46.411749Z",
          "iopub.execute_input": "2022-04-25T18:47:46.412002Z",
          "iopub.status.idle": "2022-04-25T18:47:46.498411Z",
          "shell.execute_reply.started": "2022-04-25T18:47:46.411973Z",
          "shell.execute_reply": "2022-04-25T18:47:46.497115Z"
        },
        "trusted": true,
        "id": "4ay_p2oPPeRB"
      },
      "execution_count": null,
      "outputs": []
    },
    {
      "cell_type": "markdown",
      "source": [
        "## **Final Evaluation**"
      ],
      "metadata": {
        "id": "tjwybhmqPeRB"
      }
    },
    {
      "cell_type": "code",
      "source": [
        "score3 = model_vgg16.evaluate(test_ds, verbose=1)\n",
        "print(f'Model 1 Vanilla Loss: {score1[0]}, Accuracy: {score1[1]*100}')\n",
        "print(f'Model 2 VGG16 Loss: {score2[0]}, Accuracy: {score2[1]*100}')\n",
        "print(f'Model 2 VGG16 Fine-tuned Loss: {score3[0]}, Accuracy: {score3[1]*100}')"
      ],
      "metadata": {
        "execution": {
          "iopub.status.busy": "2022-04-25T18:47:49.8777Z",
          "iopub.execute_input": "2022-04-25T18:47:49.877952Z",
          "iopub.status.idle": "2022-04-25T18:48:12.916597Z",
          "shell.execute_reply.started": "2022-04-25T18:47:49.877924Z",
          "shell.execute_reply": "2022-04-25T18:48:12.915852Z"
        },
        "trusted": true,
        "id": "JQJmcvIvPeRB"
      },
      "execution_count": null,
      "outputs": []
    },
    {
      "cell_type": "code",
      "source": [
        "Y_pred = model_vgg16.predict(test_ds)"
      ],
      "metadata": {
        "execution": {
          "iopub.status.busy": "2022-04-25T18:48:21.917837Z",
          "iopub.execute_input": "2022-04-25T18:48:21.918083Z",
          "iopub.status.idle": "2022-04-25T18:48:40.702857Z",
          "shell.execute_reply.started": "2022-04-25T18:48:21.918056Z",
          "shell.execute_reply": "2022-04-25T18:48:40.70211Z"
        },
        "trusted": true,
        "id": "qSqedg9TPeRB"
      },
      "execution_count": null,
      "outputs": []
    },
    {
      "cell_type": "code",
      "source": [
        "y_pred = np.argmax(Y_pred, axis=1)\n",
        "confusion_mtx = confusion_matrix(y_pred, test_ds.classes)\n",
        "f,ax = plt.subplots(figsize=(12, 12))\n",
        "sns.heatmap(confusion_mtx, annot=True,\n",
        "            linewidths=0.01,\n",
        "            linecolor=\"white\",\n",
        "            fmt= '.1f',ax=ax,)\n",
        "sns.color_palette(\"rocket\", as_cmap=True)\n",
        "\n",
        "plt.xlabel(\"Predicted Label\")\n",
        "plt.ylabel(\"True Label\")\n",
        "ax.xaxis.set_ticklabels(test_ds.class_indices)\n",
        "ax.yaxis.set_ticklabels(rice_classes)\n",
        "plt.title(\"Confusion Matrix\")\n",
        "plt.show()"
      ],
      "metadata": {
        "execution": {
          "iopub.status.busy": "2022-04-25T18:48:56.292817Z",
          "iopub.execute_input": "2022-04-25T18:48:56.293069Z",
          "iopub.status.idle": "2022-04-25T18:48:56.622663Z",
          "shell.execute_reply.started": "2022-04-25T18:48:56.29304Z",
          "shell.execute_reply": "2022-04-25T18:48:56.621955Z"
        },
        "trusted": true,
        "id": "CUfkq7TkPeRB"
      },
      "execution_count": null,
      "outputs": []
    },
    {
      "cell_type": "code",
      "source": [
        "report2 = classification_report(test_ds.classes, y_pred, target_names=rice_classes, output_dict=True)\n",
        "df2 = pd.DataFrame(report1).transpose()\n",
        "df2"
      ],
      "metadata": {
        "execution": {
          "iopub.status.busy": "2022-04-25T18:49:07.138531Z",
          "iopub.execute_input": "2022-04-25T18:49:07.138788Z",
          "iopub.status.idle": "2022-04-25T18:49:07.164819Z",
          "shell.execute_reply.started": "2022-04-25T18:49:07.138758Z",
          "shell.execute_reply": "2022-04-25T18:49:07.164102Z"
        },
        "trusted": true,
        "id": "87VbeovoPeRB"
      },
      "execution_count": null,
      "outputs": []
    },
    {
      "cell_type": "code",
      "source": [
        "plt.figure(figsize=(10, 10))\n",
        "x, label= train_ds.next()\n",
        "for i in range(9):\n",
        "    plt.subplot(3, 3, i+1)\n",
        "    plt.imshow(x[i])\n",
        "    result = np.where(label[i]==1)\n",
        "    predict = model_vgg16(tf.expand_dims(x[i], 0))\n",
        "    score = tf.nn.softmax(predict[0])\n",
        "    score_label = rice_classes[np.argmax(score)]\n",
        "    plt.title(f'Truth: {rice_classes[result[0][0]]}\\nPrediction:{score_label}')\n",
        "    plt.axis(False)"
      ],
      "metadata": {
        "execution": {
          "iopub.status.busy": "2022-04-25T18:49:15.613429Z",
          "iopub.execute_input": "2022-04-25T18:49:15.613696Z",
          "iopub.status.idle": "2022-04-25T18:49:16.658068Z",
          "shell.execute_reply.started": "2022-04-25T18:49:15.613666Z",
          "shell.execute_reply": "2022-04-25T18:49:16.657408Z"
        },
        "trusted": true,
        "id": "OhkKG0ykPeRC"
      },
      "execution_count": null,
      "outputs": []
    }
  ]
}