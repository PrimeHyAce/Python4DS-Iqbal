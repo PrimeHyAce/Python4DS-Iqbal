{
  "metadata": {
    "kernelspec": {
      "language": "python",
      "display_name": "Python 3",
      "name": "python3"
    },
    "language_info": {
      "pygments_lexer": "ipython3",
      "nbconvert_exporter": "python",
      "version": "3.6.4",
      "file_extension": ".py",
      "codemirror_mode": {
        "name": "ipython",
        "version": 3
      },
      "name": "python",
      "mimetype": "text/x-python"
    },
    "colab": {
      "name": "🧠 Brain Tumor MRI Classification: TensorFlow CNN",
      "provenance": [],
      "include_colab_link": true
    }
  },
  "nbformat_minor": 0,
  "nbformat": 4,
  "cells": [
    {
      "cell_type": "markdown",
      "metadata": {
        "id": "view-in-github",
        "colab_type": "text"
      },
      "source": [
        "<a href=\"https://colab.research.google.com/github/PrimeHyAce/Python4DS-Iqbal/blob/main/%F0%9F%A7%A0_Brain_Tumor_MRI_Classification_TensorFlow_CNN.ipynb\" target=\"_parent\"><img src=\"https://colab.research.google.com/assets/colab-badge.svg\" alt=\"Open In Colab\"/></a>"
      ]
    },
    {
      "source": [
        "\n",
        "# IMPORTANT: RUN THIS CELL IN ORDER TO IMPORT YOUR KAGGLE DATA SOURCES\n",
        "# TO THE CORRECT LOCATION (/kaggle/input) IN YOUR NOTEBOOK,\n",
        "# THEN FEEL FREE TO DELETE THIS CELL.\n",
        "# NOTE: THIS NOTEBOOK ENVIRONMENT DIFFERS FROM KAGGLE'S PYTHON\n",
        "# ENVIRONMENT SO THERE MAY BE MISSING LIBRARIES USED BY YOUR\n",
        "# NOTEBOOK.\n",
        "\n",
        "import os\n",
        "import sys\n",
        "from tempfile import NamedTemporaryFile\n",
        "from urllib.request import urlopen\n",
        "from urllib.parse import unquote, urlparse\n",
        "from urllib.error import HTTPError\n",
        "from zipfile import ZipFile\n",
        "import tarfile\n",
        "import shutil\n",
        "\n",
        "CHUNK_SIZE = 40960\n",
        "DATA_SOURCE_MAPPING = 'brain-tumor-classification-mri:https%3A%2F%2Fstorage.googleapis.com%2Fkaggle-data-sets%2F672377%2F1183165%2Fbundle%2Farchive.zip%3FX-Goog-Algorithm%3DGOOG4-RSA-SHA256%26X-Goog-Credential%3Dgcp-kaggle-com%2540kaggle-161607.iam.gserviceaccount.com%252F20240706%252Fauto%252Fstorage%252Fgoog4_request%26X-Goog-Date%3D20240706T084622Z%26X-Goog-Expires%3D259200%26X-Goog-SignedHeaders%3Dhost%26X-Goog-Signature%3D9ec353d38e5b94ad90fde0419eeed00a9bff60ebc2919ee49a5f426a777880d32f491d724714e1dd7b6f94a772148dfecaf81263d6cace849ae38cc18798b97855b8138c2d116540112b1581c019a67f7a1626dededfc68d7252dcf5219f39c1cedd32bb7941a2e2d6e2d21951df057f026439630441ae3b978f042be9ab090c2d98253715fee6735e60ee535d55a1f7e4903109e1b1316d590e7322674e954e2da0652d69b529bbc4dbb47324f8b1038a731e586e38271dc934b4ec0959d806a5268e9fb37b18aad74ef7e7571cd55db70c38e2df33bbd18c53a1eed78096c1068ce3a497f408bf53c17f74c75ec3daac58bbe9f02d612885a93f759baebf13'\n",
        "\n",
        "KAGGLE_INPUT_PATH='/kaggle/input'\n",
        "KAGGLE_WORKING_PATH='/kaggle/working'\n",
        "KAGGLE_SYMLINK='kaggle'\n",
        "\n",
        "!umount /kaggle/input/ 2> /dev/null\n",
        "shutil.rmtree('/kaggle/input', ignore_errors=True)\n",
        "os.makedirs(KAGGLE_INPUT_PATH, 0o777, exist_ok=True)\n",
        "os.makedirs(KAGGLE_WORKING_PATH, 0o777, exist_ok=True)\n",
        "\n",
        "try:\n",
        "  os.symlink(KAGGLE_INPUT_PATH, os.path.join(\"..\", 'input'), target_is_directory=True)\n",
        "except FileExistsError:\n",
        "  pass\n",
        "try:\n",
        "  os.symlink(KAGGLE_WORKING_PATH, os.path.join(\"..\", 'working'), target_is_directory=True)\n",
        "except FileExistsError:\n",
        "  pass\n",
        "\n",
        "for data_source_mapping in DATA_SOURCE_MAPPING.split(','):\n",
        "    directory, download_url_encoded = data_source_mapping.split(':')\n",
        "    download_url = unquote(download_url_encoded)\n",
        "    filename = urlparse(download_url).path\n",
        "    destination_path = os.path.join(KAGGLE_INPUT_PATH, directory)\n",
        "    try:\n",
        "        with urlopen(download_url) as fileres, NamedTemporaryFile() as tfile:\n",
        "            total_length = fileres.headers['content-length']\n",
        "            print(f'Downloading {directory}, {total_length} bytes compressed')\n",
        "            dl = 0\n",
        "            data = fileres.read(CHUNK_SIZE)\n",
        "            while len(data) > 0:\n",
        "                dl += len(data)\n",
        "                tfile.write(data)\n",
        "                done = int(50 * dl / int(total_length))\n",
        "                sys.stdout.write(f\"\\r[{'=' * done}{' ' * (50-done)}] {dl} bytes downloaded\")\n",
        "                sys.stdout.flush()\n",
        "                data = fileres.read(CHUNK_SIZE)\n",
        "            if filename.endswith('.zip'):\n",
        "              with ZipFile(tfile) as zfile:\n",
        "                zfile.extractall(destination_path)\n",
        "            else:\n",
        "              with tarfile.open(tfile.name) as tarfile:\n",
        "                tarfile.extractall(destination_path)\n",
        "            print(f'\\nDownloaded and uncompressed: {directory}')\n",
        "    except HTTPError as e:\n",
        "        print(f'Failed to load (likely expired) {download_url} to path {destination_path}')\n",
        "        continue\n",
        "    except OSError as e:\n",
        "        print(f'Failed to load {download_url} to path {destination_path}')\n",
        "        continue\n",
        "\n",
        "print('Data source import complete.')\n"
      ],
      "metadata": {
        "id": "KBmoVujiORtN"
      },
      "cell_type": "code",
      "outputs": [],
      "execution_count": null
    },
    {
      "cell_type": "markdown",
      "source": [
        "# Introduction"
      ],
      "metadata": {
        "id": "oYZjwJhkORtQ"
      }
    },
    {
      "cell_type": "markdown",
      "source": [
        "In this notebook, I've used **CNN** to perform Image Classification on the Brain Tumor dataset.<br>\n",
        "Since this dataset is small, if we train a neural network to it, it won't really give us a good result.<br>\n",
        "Therefore, I'm going to use the concept of **Transfer Learning** to train the model to get really accurate results."
      ],
      "metadata": {
        "id": "X1gv6it0ORtR"
      }
    },
    {
      "cell_type": "markdown",
      "source": [
        "<img src=\"https://miro.medium.com/max/2800/1*TUF_YfybJPQ8WA0siWeJTg@2x.jpeg\" alt=\"Brain\" style=\"width: 800px;\">"
      ],
      "metadata": {
        "id": "YaqB9mC8ORtR"
      }
    },
    {
      "cell_type": "markdown",
      "source": [
        "### Note"
      ],
      "metadata": {
        "id": "DiTfrto6ORtR"
      }
    },
    {
      "cell_type": "markdown",
      "source": [
        "If you find this notebook helpful and intuitive, feel free to upvote it! Do give me your suggestions or opinions so that I can improve my work! I will highly appreciate it! Thank you! :)"
      ],
      "metadata": {
        "id": "QH5tyNw1ORtR"
      }
    },
    {
      "cell_type": "markdown",
      "source": [
        "---"
      ],
      "metadata": {
        "id": "75qppVijORtS"
      }
    },
    {
      "cell_type": "markdown",
      "source": [
        "# Importing Libraries"
      ],
      "metadata": {
        "id": "MAW3Jf13ORtS"
      }
    },
    {
      "cell_type": "code",
      "source": [
        "import matplotlib.pyplot as plt\n",
        "import numpy as np\n",
        "import pandas as pd\n",
        "import seaborn as sns\n",
        "import cv2\n",
        "import tensorflow as tf\n",
        "from tensorflow.keras.preprocessing.image import ImageDataGenerator\n",
        "from tqdm import tqdm\n",
        "import os\n",
        "from sklearn.utils import shuffle\n",
        "from sklearn.model_selection import train_test_split\n",
        "from tensorflow.keras.applications import EfficientNetB0\n",
        "from tensorflow.keras.callbacks import EarlyStopping, ReduceLROnPlateau, TensorBoard, ModelCheckpoint\n",
        "from sklearn.metrics import classification_report,confusion_matrix\n",
        "import ipywidgets as widgets\n",
        "import io\n",
        "from PIL import Image\n",
        "from IPython.display import display,clear_output\n",
        "from warnings import filterwarnings\n",
        "for dirname, _, filenames in os.walk('/kaggle/input'):\n",
        "    for filename in filenames:\n",
        "        print(os.path.join(dirname, filename))"
      ],
      "metadata": {
        "_kg_hide-output": true,
        "scrolled": true,
        "execution": {
          "iopub.status.busy": "2021-08-12T12:46:55.785694Z",
          "iopub.execute_input": "2021-08-12T12:46:55.787108Z",
          "iopub.status.idle": "2021-08-12T12:47:03.18411Z",
          "shell.execute_reply.started": "2021-08-12T12:46:55.786982Z",
          "shell.execute_reply": "2021-08-12T12:47:03.18332Z"
        },
        "trusted": true,
        "id": "8bHLc0wsORtS"
      },
      "execution_count": null,
      "outputs": []
    },
    {
      "cell_type": "markdown",
      "source": [
        "---"
      ],
      "metadata": {
        "id": "ISrjhOUZORtS"
      }
    },
    {
      "cell_type": "markdown",
      "source": [
        "# Color"
      ],
      "metadata": {
        "id": "vaLgldnSORtT"
      }
    },
    {
      "cell_type": "code",
      "source": [
        "colors_dark = [\"#1F1F1F\", \"#313131\", '#636363', '#AEAEAE', '#DADADA']\n",
        "colors_red = [\"#331313\", \"#582626\", '#9E1717', '#D35151', '#E9B4B4']\n",
        "colors_green = ['#01411C','#4B6F44','#4F7942','#74C365','#D0F0C0']\n",
        "\n",
        "sns.palplot(colors_dark)\n",
        "sns.palplot(colors_green)\n",
        "sns.palplot(colors_red)"
      ],
      "metadata": {
        "execution": {
          "iopub.status.busy": "2021-08-12T12:47:03.185678Z",
          "iopub.execute_input": "2021-08-12T12:47:03.186044Z",
          "iopub.status.idle": "2021-08-12T12:47:03.517732Z",
          "shell.execute_reply.started": "2021-08-12T12:47:03.185996Z",
          "shell.execute_reply": "2021-08-12T12:47:03.516807Z"
        },
        "trusted": true,
        "id": "iUa022XFORtT"
      },
      "execution_count": null,
      "outputs": []
    },
    {
      "cell_type": "markdown",
      "source": [
        "---"
      ],
      "metadata": {
        "id": "IxXn4HknORtT"
      }
    },
    {
      "cell_type": "markdown",
      "source": [
        "# Data Preperation"
      ],
      "metadata": {
        "id": "V_icU5syORtT"
      }
    },
    {
      "cell_type": "code",
      "source": [
        "labels = ['glioma_tumor','no_tumor','meningioma_tumor','pituitary_tumor']"
      ],
      "metadata": {
        "execution": {
          "iopub.status.busy": "2021-08-12T12:47:03.519788Z",
          "iopub.execute_input": "2021-08-12T12:47:03.520149Z",
          "iopub.status.idle": "2021-08-12T12:47:03.52486Z",
          "shell.execute_reply.started": "2021-08-12T12:47:03.520113Z",
          "shell.execute_reply": "2021-08-12T12:47:03.523681Z"
        },
        "trusted": true,
        "id": "mh7U-M0fORtT"
      },
      "execution_count": null,
      "outputs": []
    },
    {
      "cell_type": "markdown",
      "source": [
        "We start off by appending all the images from the  directories into a Python list and then converting them into numpy arrays after resizing it."
      ],
      "metadata": {
        "id": "AFPEgKquORtT"
      }
    },
    {
      "cell_type": "code",
      "source": [
        "X_train = []\n",
        "y_train = []\n",
        "image_size = 150\n",
        "for i in labels:\n",
        "    folderPath = os.path.join('../input/brain-tumor-classification-mri','Training',i)\n",
        "    for j in tqdm(os.listdir(folderPath)):\n",
        "        img = cv2.imread(os.path.join(folderPath,j))\n",
        "        img = cv2.resize(img,(image_size, image_size))\n",
        "        X_train.append(img)\n",
        "        y_train.append(i)\n",
        "\n",
        "for i in labels:\n",
        "    folderPath = os.path.join('../input/brain-tumor-classification-mri','Testing',i)\n",
        "    for j in tqdm(os.listdir(folderPath)):\n",
        "        img = cv2.imread(os.path.join(folderPath,j))\n",
        "        img = cv2.resize(img,(image_size,image_size))\n",
        "        X_train.append(img)\n",
        "        y_train.append(i)\n",
        "\n",
        "X_train = np.array(X_train)\n",
        "y_train = np.array(y_train)"
      ],
      "metadata": {
        "execution": {
          "iopub.status.busy": "2021-08-12T12:47:03.527525Z",
          "iopub.execute_input": "2021-08-12T12:47:03.528122Z",
          "iopub.status.idle": "2021-08-12T12:47:33.995362Z",
          "shell.execute_reply.started": "2021-08-12T12:47:03.528074Z",
          "shell.execute_reply": "2021-08-12T12:47:33.99444Z"
        },
        "trusted": true,
        "id": "GrJ4DDA7ORtT"
      },
      "execution_count": null,
      "outputs": []
    },
    {
      "cell_type": "code",
      "source": [
        "k=0\n",
        "fig, ax = plt.subplots(1,4,figsize=(20,20))\n",
        "fig.text(s='Sample Image From Each Label',size=18,fontweight='bold',\n",
        "             fontname='monospace',color=colors_dark[1],y=0.62,x=0.4,alpha=0.8)\n",
        "for i in labels:\n",
        "    j=0\n",
        "    while True :\n",
        "        if y_train[j]==i:\n",
        "            ax[k].imshow(X_train[j])\n",
        "            ax[k].set_title(y_train[j])\n",
        "            ax[k].axis('off')\n",
        "            k+=1\n",
        "            break\n",
        "        j+=1"
      ],
      "metadata": {
        "_kg_hide-input": true,
        "execution": {
          "iopub.status.busy": "2021-08-12T12:47:33.996944Z",
          "iopub.execute_input": "2021-08-12T12:47:33.997344Z",
          "iopub.status.idle": "2021-08-12T12:47:34.376683Z",
          "shell.execute_reply.started": "2021-08-12T12:47:33.997305Z",
          "shell.execute_reply": "2021-08-12T12:47:34.375733Z"
        },
        "trusted": true,
        "id": "vWFObbp9ORtT"
      },
      "execution_count": null,
      "outputs": []
    },
    {
      "cell_type": "code",
      "source": [
        "X_train, y_train = shuffle(X_train,y_train, random_state=101)"
      ],
      "metadata": {
        "execution": {
          "iopub.status.busy": "2021-08-12T12:47:34.378042Z",
          "iopub.execute_input": "2021-08-12T12:47:34.378405Z",
          "iopub.status.idle": "2021-08-12T12:47:34.452619Z",
          "shell.execute_reply.started": "2021-08-12T12:47:34.378365Z",
          "shell.execute_reply": "2021-08-12T12:47:34.451641Z"
        },
        "trusted": true,
        "id": "NOtLzC8aORtU"
      },
      "execution_count": null,
      "outputs": []
    },
    {
      "cell_type": "code",
      "source": [
        "X_train.shape"
      ],
      "metadata": {
        "execution": {
          "iopub.status.busy": "2021-08-12T12:47:34.454066Z",
          "iopub.execute_input": "2021-08-12T12:47:34.454476Z",
          "iopub.status.idle": "2021-08-12T12:47:34.461232Z",
          "shell.execute_reply.started": "2021-08-12T12:47:34.454436Z",
          "shell.execute_reply": "2021-08-12T12:47:34.460124Z"
        },
        "trusted": true,
        "id": "czSMMk5RORtU"
      },
      "execution_count": null,
      "outputs": []
    },
    {
      "cell_type": "markdown",
      "source": [
        "Dividing the dataset into **Training** and **Testing** sets."
      ],
      "metadata": {
        "id": "dXQcFWIWORtU"
      }
    },
    {
      "cell_type": "code",
      "source": [
        "X_train,X_test,y_train,y_test = train_test_split(X_train,y_train, test_size=0.1,random_state=101)"
      ],
      "metadata": {
        "execution": {
          "iopub.status.busy": "2021-08-12T12:47:34.465389Z",
          "iopub.execute_input": "2021-08-12T12:47:34.465902Z",
          "iopub.status.idle": "2021-08-12T12:47:34.536511Z",
          "shell.execute_reply.started": "2021-08-12T12:47:34.465862Z",
          "shell.execute_reply": "2021-08-12T12:47:34.535521Z"
        },
        "trusted": true,
        "id": "ONbHojcRORtU"
      },
      "execution_count": null,
      "outputs": []
    },
    {
      "cell_type": "markdown",
      "source": [
        "Performing **One Hot Encoding** on the labels after converting it into numerical values:"
      ],
      "metadata": {
        "id": "iEw6t6KoORtU"
      }
    },
    {
      "cell_type": "code",
      "source": [
        "y_train_new = []\n",
        "for i in y_train:\n",
        "    y_train_new.append(labels.index(i))\n",
        "y_train = y_train_new\n",
        "y_train = tf.keras.utils.to_categorical(y_train)\n",
        "\n",
        "\n",
        "y_test_new = []\n",
        "for i in y_test:\n",
        "    y_test_new.append(labels.index(i))\n",
        "y_test = y_test_new\n",
        "y_test = tf.keras.utils.to_categorical(y_test)"
      ],
      "metadata": {
        "execution": {
          "iopub.status.busy": "2021-08-12T12:47:34.538591Z",
          "iopub.execute_input": "2021-08-12T12:47:34.538938Z",
          "iopub.status.idle": "2021-08-12T12:47:34.549102Z",
          "shell.execute_reply.started": "2021-08-12T12:47:34.538903Z",
          "shell.execute_reply": "2021-08-12T12:47:34.547985Z"
        },
        "trusted": true,
        "id": "Z1uy0-zfORtU"
      },
      "execution_count": null,
      "outputs": []
    },
    {
      "cell_type": "markdown",
      "source": [
        "---"
      ],
      "metadata": {
        "id": "2ZGTSkv7ORtU"
      }
    },
    {
      "cell_type": "markdown",
      "source": [
        "# Transfer Learning"
      ],
      "metadata": {
        "id": "-KbCQdfeORtU"
      }
    },
    {
      "cell_type": "markdown",
      "source": [
        "Deep convolutional neural network models may take days or even weeks to train on very large datasets.\n",
        "\n",
        "A way to short-cut this process is to re-use the model weights from pre-trained models that were developed for standard computer vision benchmark datasets, such as the ImageNet image recognition tasks. Top performing models can be downloaded and used directly, or integrated into a new model for your own computer vision problems.\n",
        "\n",
        "In this notebook, I'll be using the **EfficientNetB0** model which will use the weights from the **ImageNet** dataset.\n",
        "\n",
        "The include_top parameter is set to *False* so that the network doesn't include the top layer/ output layer from the pre-built model which allows us to add our own output layer depending upon our use case!"
      ],
      "metadata": {
        "id": "CzBeGUMBORtU"
      }
    },
    {
      "cell_type": "code",
      "source": [
        "effnet = EfficientNetB0(weights='imagenet',include_top=False,input_shape=(image_size,image_size,3))"
      ],
      "metadata": {
        "execution": {
          "iopub.status.busy": "2021-08-12T12:47:34.550899Z",
          "iopub.execute_input": "2021-08-12T12:47:34.551378Z",
          "iopub.status.idle": "2021-08-12T12:47:38.69127Z",
          "shell.execute_reply.started": "2021-08-12T12:47:34.551335Z",
          "shell.execute_reply": "2021-08-12T12:47:38.690408Z"
        },
        "trusted": true,
        "id": "Ze1LjWwDORtV"
      },
      "execution_count": null,
      "outputs": []
    },
    {
      "cell_type": "markdown",
      "source": [
        "**GlobalAveragePooling2D** -> This layer acts similar to the Max Pooling layer in CNNs, the only difference being is that it uses the Average values instead of the Max value while *pooling*. This really helps in decreasing the computational load on the machine while training.\n",
        "<br><br>\n",
        "**Dropout** -> This layer omits some of the neurons at each step from the layer making the neurons more independent from the neibouring neurons. It helps in avoiding overfitting. Neurons to be ommitted are selected at random. The **rate** parameter is the liklihood of a neuron activation being set to 0, thus dropping out the neuron\n",
        "\n",
        "**Dense** -> This is the output layer which classifies the image into 1 of the 4 possible classes. It uses the **softmax** function which is a generalization of the sigmoid function."
      ],
      "metadata": {
        "id": "P3aTIFMYORtV"
      }
    },
    {
      "cell_type": "code",
      "source": [
        "model = effnet.output\n",
        "model = tf.keras.layers.GlobalAveragePooling2D()(model)\n",
        "model = tf.keras.layers.Dropout(rate=0.5)(model)\n",
        "model = tf.keras.layers.Dense(4,activation='softmax')(model)\n",
        "model = tf.keras.models.Model(inputs=effnet.input, outputs = model)"
      ],
      "metadata": {
        "execution": {
          "iopub.status.busy": "2021-08-12T12:47:38.692709Z",
          "iopub.execute_input": "2021-08-12T12:47:38.693058Z",
          "iopub.status.idle": "2021-08-12T12:47:38.729795Z",
          "shell.execute_reply.started": "2021-08-12T12:47:38.693001Z",
          "shell.execute_reply": "2021-08-12T12:47:38.729005Z"
        },
        "trusted": true,
        "id": "g3uwfWncORtV"
      },
      "execution_count": null,
      "outputs": []
    },
    {
      "cell_type": "code",
      "source": [
        "model.summary()"
      ],
      "metadata": {
        "scrolled": true,
        "_kg_hide-output": true,
        "execution": {
          "iopub.status.busy": "2021-08-12T12:47:38.73133Z",
          "iopub.execute_input": "2021-08-12T12:47:38.731901Z",
          "iopub.status.idle": "2021-08-12T12:47:38.844275Z",
          "shell.execute_reply.started": "2021-08-12T12:47:38.731857Z",
          "shell.execute_reply": "2021-08-12T12:47:38.83983Z"
        },
        "trusted": true,
        "id": "dv2wnfnIORtV"
      },
      "execution_count": null,
      "outputs": []
    },
    {
      "cell_type": "markdown",
      "source": [
        "We finally compile our model."
      ],
      "metadata": {
        "id": "pGLTyshsORtV"
      }
    },
    {
      "cell_type": "code",
      "source": [
        "model.compile(loss='categorical_crossentropy',optimizer = 'Adam', metrics= ['accuracy'])"
      ],
      "metadata": {
        "execution": {
          "iopub.status.busy": "2021-08-12T12:47:38.845617Z",
          "iopub.execute_input": "2021-08-12T12:47:38.845989Z",
          "iopub.status.idle": "2021-08-12T12:47:38.868554Z",
          "shell.execute_reply.started": "2021-08-12T12:47:38.845949Z",
          "shell.execute_reply": "2021-08-12T12:47:38.867797Z"
        },
        "trusted": true,
        "id": "fzIXnBnoORtV"
      },
      "execution_count": null,
      "outputs": []
    },
    {
      "cell_type": "markdown",
      "source": [
        "**Callbacks** -> Callbacks can help you fix bugs more quickly, and can help you build better models. They can help you visualize how your model’s training is going, and can even help prevent overfitting by implementing early stopping or customizing the learning rate on each iteration.<br><br>\n",
        "By definition, \"A callback is a set of functions to be applied at given stages of the training procedure. You can use callbacks to get a view on internal states and statistics of the model during training.\"\n",
        "\n",
        "In this notebook, I'll be using **TensorBoard, ModelCheckpoint and ReduceLROnPlateau** callback functions"
      ],
      "metadata": {
        "id": "KqtaZ2EeORtV"
      }
    },
    {
      "cell_type": "code",
      "source": [
        "tensorboard = TensorBoard(log_dir = 'logs')\n",
        "checkpoint = ModelCheckpoint(\"effnet.h5\",monitor=\"val_accuracy\",save_best_only=True,mode=\"auto\",verbose=1)\n",
        "reduce_lr = ReduceLROnPlateau(monitor = 'val_accuracy', factor = 0.3, patience = 2, min_delta = 0.001,\n",
        "                              mode='auto',verbose=1)"
      ],
      "metadata": {
        "execution": {
          "iopub.status.busy": "2021-08-12T12:47:38.869741Z",
          "iopub.execute_input": "2021-08-12T12:47:38.870076Z",
          "iopub.status.idle": "2021-08-12T12:47:39.206182Z",
          "shell.execute_reply.started": "2021-08-12T12:47:38.870042Z",
          "shell.execute_reply": "2021-08-12T12:47:39.205232Z"
        },
        "trusted": true,
        "id": "pZZMpU-ZORtW"
      },
      "execution_count": null,
      "outputs": []
    },
    {
      "cell_type": "markdown",
      "source": [
        "---"
      ],
      "metadata": {
        "id": "mcxgQyWxORtW"
      }
    },
    {
      "cell_type": "markdown",
      "source": [
        "# Training The Model"
      ],
      "metadata": {
        "id": "6lhLtLL0ORtW"
      }
    },
    {
      "cell_type": "markdown",
      "source": [
        "**Note**: The training takes alot of time! ~ 2 hours for me (Using CPU)<br>\n",
        "Barely took 5 minutes with the GPU."
      ],
      "metadata": {
        "id": "56jBLrU6ORtW"
      }
    },
    {
      "cell_type": "code",
      "source": [
        "history = model.fit(X_train,y_train,validation_split=0.1, epochs =12, verbose=1, batch_size=32,\n",
        "                   callbacks=[tensorboard,checkpoint,reduce_lr])"
      ],
      "metadata": {
        "scrolled": true,
        "execution": {
          "iopub.status.busy": "2021-08-12T12:47:39.207619Z",
          "iopub.execute_input": "2021-08-12T12:47:39.207951Z",
          "iopub.status.idle": "2021-08-12T12:49:53.407338Z",
          "shell.execute_reply.started": "2021-08-12T12:47:39.207916Z",
          "shell.execute_reply": "2021-08-12T12:49:53.406073Z"
        },
        "trusted": true,
        "id": "C6NuWgG4ORtW"
      },
      "execution_count": null,
      "outputs": []
    },
    {
      "cell_type": "code",
      "source": [
        "filterwarnings('ignore')\n",
        "\n",
        "epochs = [i for i in range(12)]\n",
        "fig, ax = plt.subplots(1,2,figsize=(14,7))\n",
        "train_acc = history.history['accuracy']\n",
        "train_loss = history.history['loss']\n",
        "val_acc = history.history['val_accuracy']\n",
        "val_loss = history.history['val_loss']\n",
        "\n",
        "fig.text(s='Epochs vs. Training and Validation Accuracy/Loss',size=18,fontweight='bold',\n",
        "             fontname='monospace',color=colors_dark[1],y=1,x=0.28,alpha=0.8)\n",
        "\n",
        "sns.despine()\n",
        "ax[0].plot(epochs, train_acc, marker='o',markerfacecolor=colors_green[2],color=colors_green[3],\n",
        "           label = 'Training Accuracy')\n",
        "ax[0].plot(epochs, val_acc, marker='o',markerfacecolor=colors_red[2],color=colors_red[3],\n",
        "           label = 'Validation Accuracy')\n",
        "ax[0].legend(frameon=False)\n",
        "ax[0].set_xlabel('Epochs')\n",
        "ax[0].set_ylabel('Accuracy')\n",
        "\n",
        "sns.despine()\n",
        "ax[1].plot(epochs, train_loss, marker='o',markerfacecolor=colors_green[2],color=colors_green[3],\n",
        "           label ='Training Loss')\n",
        "ax[1].plot(epochs, val_loss, marker='o',markerfacecolor=colors_red[2],color=colors_red[3],\n",
        "           label = 'Validation Loss')\n",
        "ax[1].legend(frameon=False)\n",
        "ax[1].set_xlabel('Epochs')\n",
        "ax[1].set_ylabel('Training & Validation Loss')\n",
        "\n",
        "fig.show()"
      ],
      "metadata": {
        "_kg_hide-input": true,
        "execution": {
          "iopub.status.busy": "2021-08-12T12:49:53.409326Z",
          "iopub.execute_input": "2021-08-12T12:49:53.409767Z",
          "iopub.status.idle": "2021-08-12T12:49:53.733558Z",
          "shell.execute_reply.started": "2021-08-12T12:49:53.409717Z",
          "shell.execute_reply": "2021-08-12T12:49:53.732539Z"
        },
        "trusted": true,
        "id": "auyTS6uYORtb"
      },
      "execution_count": null,
      "outputs": []
    },
    {
      "cell_type": "markdown",
      "source": [
        "---"
      ],
      "metadata": {
        "id": "aSUanq7KORtb"
      }
    },
    {
      "cell_type": "markdown",
      "source": [
        "# Prediction"
      ],
      "metadata": {
        "id": "U1C4QaugORtb"
      }
    },
    {
      "cell_type": "markdown",
      "source": [
        "I've used the *argmax function* as each row from the prediction array contains four values for the respective labels. The **maximum** value which is in each row depicts the predicted output out of the 4 possible outcomes.<br>\n",
        "So with *argmax*, I'm able to find out the index associated with the predicted outcome."
      ],
      "metadata": {
        "id": "nxMzCJ-zORtb"
      }
    },
    {
      "cell_type": "code",
      "source": [
        "pred = model.predict(X_test)\n",
        "pred = np.argmax(pred,axis=1)\n",
        "y_test_new = np.argmax(y_test,axis=1)"
      ],
      "metadata": {
        "execution": {
          "iopub.status.busy": "2021-08-12T12:49:53.734933Z",
          "iopub.execute_input": "2021-08-12T12:49:53.73531Z",
          "iopub.status.idle": "2021-08-12T12:49:55.56382Z",
          "shell.execute_reply.started": "2021-08-12T12:49:53.735266Z",
          "shell.execute_reply": "2021-08-12T12:49:55.562972Z"
        },
        "trusted": true,
        "id": "eTIdMMeMORtb"
      },
      "execution_count": null,
      "outputs": []
    },
    {
      "cell_type": "markdown",
      "source": [
        "---"
      ],
      "metadata": {
        "id": "cW4DzTFIORtb"
      }
    },
    {
      "cell_type": "markdown",
      "source": [
        "# Evaluation"
      ],
      "metadata": {
        "id": "ifDl2jJTORtb"
      }
    },
    {
      "cell_type": "markdown",
      "source": [
        "In this, <br>\n",
        "0 - Glioma Tumor<br>\n",
        "1 - No Tumor<br>\n",
        "2 - Meningioma Tumor<br>\n",
        "3 - Pituitary Tumor<br>"
      ],
      "metadata": {
        "id": "NHdPOYp7ORtb"
      }
    },
    {
      "cell_type": "code",
      "source": [
        "print(classification_report(y_test_new,pred))"
      ],
      "metadata": {
        "execution": {
          "iopub.status.busy": "2021-08-12T12:49:55.56508Z",
          "iopub.execute_input": "2021-08-12T12:49:55.565427Z",
          "iopub.status.idle": "2021-08-12T12:49:55.577586Z",
          "shell.execute_reply.started": "2021-08-12T12:49:55.565392Z",
          "shell.execute_reply": "2021-08-12T12:49:55.576259Z"
        },
        "trusted": true,
        "id": "eRCR7SqDORtb"
      },
      "execution_count": null,
      "outputs": []
    },
    {
      "cell_type": "code",
      "source": [
        "fig,ax=plt.subplots(1,1,figsize=(14,7))\n",
        "sns.heatmap(confusion_matrix(y_test_new,pred),ax=ax,xticklabels=labels,yticklabels=labels,annot=True,\n",
        "           cmap=colors_green[::-1],alpha=0.7,linewidths=2,linecolor=colors_dark[3])\n",
        "fig.text(s='Heatmap of the Confusion Matrix',size=18,fontweight='bold',\n",
        "             fontname='monospace',color=colors_dark[1],y=0.92,x=0.28,alpha=0.8)\n",
        "\n",
        "plt.show()"
      ],
      "metadata": {
        "_kg_hide-input": true,
        "execution": {
          "iopub.status.busy": "2021-08-12T12:49:55.578891Z",
          "iopub.execute_input": "2021-08-12T12:49:55.579469Z",
          "iopub.status.idle": "2021-08-12T12:49:55.832496Z",
          "shell.execute_reply.started": "2021-08-12T12:49:55.579432Z",
          "shell.execute_reply": "2021-08-12T12:49:55.831629Z"
        },
        "trusted": true,
        "id": "fQbSH8N1ORtc"
      },
      "execution_count": null,
      "outputs": []
    },
    {
      "cell_type": "markdown",
      "source": [
        "---"
      ],
      "metadata": {
        "id": "DEdllB7zORtc"
      }
    },
    {
      "cell_type": "markdown",
      "source": [
        "# Bonus Content: Widgets"
      ],
      "metadata": {
        "id": "NvLPhhU1ORtc"
      }
    },
    {
      "cell_type": "markdown",
      "source": [
        "I've made these Widgets in which we can upload images from our local machine and predict whether the MRI scan has a Brain Tumour or not and to classify which Tumor it is.<br>\n",
        "Unfortunately, it doesn't work on Kaggle but you can play around with this by downloading the notebook on your machine :)"
      ],
      "metadata": {
        "id": "Mi1yCvnxORtc"
      }
    },
    {
      "cell_type": "code",
      "source": [
        "def img_pred(upload):\n",
        "    for name, file_info in uploader.value.items():\n",
        "        img = Image.open(io.BytesIO(file_info['content']))\n",
        "    opencvImage = cv2.cvtColor(np.array(img), cv2.COLOR_RGB2BGR)\n",
        "    img = cv2.resize(opencvImage,(150,150))\n",
        "    img = img.reshape(1,150,150,3)\n",
        "    p = model.predict(img)\n",
        "    p = np.argmax(p,axis=1)[0]\n",
        "\n",
        "    if p==0:\n",
        "        p='Glioma Tumor'\n",
        "    elif p==1:\n",
        "        print('The model predicts that there is no tumor')\n",
        "    elif p==2:\n",
        "        p='Meningioma Tumor'\n",
        "    else:\n",
        "        p='Pituitary Tumor'\n",
        "\n",
        "    if p!=1:\n",
        "        print(f'The Model predicts that it is a {p}')"
      ],
      "metadata": {
        "execution": {
          "iopub.status.busy": "2021-08-12T12:49:55.833746Z",
          "iopub.execute_input": "2021-08-12T12:49:55.834166Z",
          "iopub.status.idle": "2021-08-12T12:49:55.844146Z",
          "shell.execute_reply.started": "2021-08-12T12:49:55.834111Z",
          "shell.execute_reply": "2021-08-12T12:49:55.843324Z"
        },
        "trusted": true,
        "id": "D9ULCQAnORtc"
      },
      "execution_count": null,
      "outputs": []
    },
    {
      "cell_type": "markdown",
      "source": [
        "This is where you can upload the image by clicking on the **Upload** button:"
      ],
      "metadata": {
        "id": "I-yOyy7FORtc"
      }
    },
    {
      "cell_type": "code",
      "source": [
        "uploader = widgets.FileUpload()\n",
        "display(uploader)"
      ],
      "metadata": {
        "execution": {
          "iopub.status.busy": "2021-08-12T12:49:55.845606Z",
          "iopub.execute_input": "2021-08-12T12:49:55.846039Z",
          "iopub.status.idle": "2021-08-12T12:49:55.86578Z",
          "shell.execute_reply.started": "2021-08-12T12:49:55.845989Z",
          "shell.execute_reply": "2021-08-12T12:49:55.865023Z"
        },
        "trusted": true,
        "id": "MA9HhPHNORtc"
      },
      "execution_count": null,
      "outputs": []
    },
    {
      "cell_type": "markdown",
      "source": [
        "After uploading the image, you can click on the **Predict** button below to make predictions:"
      ],
      "metadata": {
        "id": "Blzk6HiTORtc"
      }
    },
    {
      "cell_type": "code",
      "source": [
        "button = widgets.Button(description='Predict')\n",
        "out = widgets.Output()\n",
        "def on_button_clicked(_):\n",
        "    with out:\n",
        "        clear_output()\n",
        "        try:\n",
        "            img_pred(uploader)\n",
        "\n",
        "        except:\n",
        "            print('No Image Uploaded/Invalid Image File')\n",
        "button.on_click(on_button_clicked)\n",
        "widgets.VBox([button,out])"
      ],
      "metadata": {
        "execution": {
          "iopub.status.busy": "2021-08-12T12:49:55.867193Z",
          "iopub.execute_input": "2021-08-12T12:49:55.867759Z",
          "iopub.status.idle": "2021-08-12T12:49:55.895006Z",
          "shell.execute_reply.started": "2021-08-12T12:49:55.867721Z",
          "shell.execute_reply": "2021-08-12T12:49:55.893991Z"
        },
        "trusted": true,
        "id": "zMGRN8BQORtc"
      },
      "execution_count": null,
      "outputs": []
    },
    {
      "cell_type": "markdown",
      "source": [
        "---"
      ],
      "metadata": {
        "id": "MQjNLEpAORtd"
      }
    },
    {
      "cell_type": "markdown",
      "source": [
        "# Conclusion"
      ],
      "metadata": {
        "id": "F-Ye7JJAORtd"
      }
    },
    {
      "cell_type": "markdown",
      "source": [
        "In this notebook, I performed Image Classification with the help of CNN using Transfer Learning which gave an accuracy of around 98%.<br>\n",
        "I also made widgets which can make predictions on an image from your local machine!"
      ],
      "metadata": {
        "id": "LLokX4AIORtd"
      }
    },
    {
      "cell_type": "markdown",
      "source": [
        "---"
      ],
      "metadata": {
        "id": "LW10n3UfORtd"
      }
    },
    {
      "cell_type": "markdown",
      "source": [
        "# <center>Thank You!"
      ],
      "metadata": {
        "id": "C1POwdXcORtd"
      }
    }
  ]
}